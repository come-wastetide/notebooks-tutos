{
 "cells": [
  {
   "cell_type": "markdown",
   "id": "8932f02c-8b83-4b54-bdf7-50d9286cbf99",
   "metadata": {
    "tags": []
   },
   "source": [
    "# Training a ResNet Model on Custom Waste Data\n",
    "\n",
    "## Introduction\n",
    "\n",
    "In this tutorial, we will walk through the process of training a ResNet (Residual Network) model on a custom dataset of waste images. Residual Networks, introduced by He et al. in the paper \"Deep Residual Learning for Image Recognition,\" have proven to be highly effective in various image classification tasks.\n",
    "\n",
    "Our goal is to build a robust image classification model capable of distinguishing between 11 types of waste.\n",
    "\n",
    "## Objectives\n",
    "\n",
    "By the end of this tutorial, you will be able to:\n",
    "1. Set up a ResNet model using the PyTorch lightning framework .\n",
    "2. Train the ResNet model on the waste dataset.\n",
    "3. Evaluate the model's performance and visualize the results.\n",
    "4. Save the trained model for future inference and deployment.\n",
    "\n",
    "## Prerequisites\n",
    "\n",
    "To follow along with this tutorial, you should have:\n",
    "\n",
    "- An environment set up with Python, Jupyter Notebook, and relevant deep learning libraries (TensorFlow/Keras or PyTorch).\n",
    "- The script train-resnet.py\n",
    "\n",
    "## Dataset\n",
    "\n",
    "For this tutorial, we will use a custom dataset of waste images, categorized into different types such as plastic, paper, metal, glass, and organic waste. Ensure the dataset is organized into separate folders for each class, as this structure will facilitate the training process.\n",
    "\n",
    "Here is an example structure of the dataset:\n",
    "\n"
   ]
  },
  {
   "cell_type": "markdown",
   "id": "f543cf22-1088-45fb-ab80-f12001d9136d",
   "metadata": {},
   "source": [
    "waste_data/\n",
    "├── plastic/\n",
    "│ ├── plastic_1.jpg\n",
    "│ ├── plastic_2.jpg\n",
    "│ └── ...\n",
    "├── paper/\n",
    "│ ├── paper_1.jpg\n",
    "│ ├── paper_2.jpg\n",
    "│ └── ...\n",
    "├── metal/\n",
    "│ ├── metal_1.jpg\n",
    "│ ├── metal_2.jpg\n",
    "│ └── ...\n",
    "├── glass/\n",
    "│ ├── glass_1.jpg\n",
    "│ ├── glass_2.jpg\n",
    "│ └── ...\n",
    "└── biowaste/\n",
    "├── biowaste_1.jpg\n",
    "├── biowaste.jpg\n",
    "└── ..."
   ]
  },
  {
   "cell_type": "markdown",
   "id": "eaffe7a8-d2cb-4c4f-ab71-6b519c8cd983",
   "metadata": {},
   "source": [
    "## Outline\n",
    "\n",
    "The tutorial will be structured as follows:\n",
    "1. **Data Preparation**: Load and preprocess the custom waste dataset.\n",
    "2. **Model Setup**: Initialize a ResNet model.\n",
    "3. **Training the Model**: Train the ResNet model on the prepared dataset.\n",
    "4. **Evaluation**: Assess the model's performance using various metrics and visualization techniques.\n",
    "5. **Saving the Model**: Save the trained model for future use.\n",
    "\n",
    "Let's get started !"
   ]
  },
  {
   "cell_type": "code",
   "execution_count": null,
   "id": "20015470-0049-4abb-87f4-d6e993a3e3f5",
   "metadata": {},
   "outputs": [],
   "source": [
    "!pip install -r requirements.txt\n",
    "%pip install -r requirements-resnet.txt"
   ]
  },
  {
   "cell_type": "markdown",
   "id": "f39d8069-0b68-4c11-9325-82712af0a50f",
   "metadata": {},
   "source": [
    "## 1. Data Preparation\n",
    "\n",
    "The first step is to load and preprocess our custom waste images and annotations. \n",
    "We need to ensure that the images are properly formatted and resized to match the input requirements of the ResNet model.\n",
    "\n",
    "### Steps:\n",
    "- Load the dataset from the specified directory.\n",
    "- Split the data into training, validation, and test sets.\n",
    "\n",
    "This two steps are handled by make_train_valid_test_data\n",
    "\n",
    "\n",
    "- Define the image transformations applied in training\n",
    "\n"
   ]
  },
  {
   "cell_type": "code",
   "execution_count": 42,
   "id": "445c80b4-ec2e-4239-8a8b-5a00a3e5fd9d",
   "metadata": {},
   "outputs": [
    {
     "name": "stdout",
     "output_type": "stream",
     "text": [
      "there is 1371 images for training\n",
      "there is 381 images for testing\n"
     ]
    }
   ],
   "source": [
    "from train_resnet import make_train_valid_test_data\n",
    "DATASET_PATH = 'data3/'\n",
    "\n",
    "train_data,val_data,test_data = make_train_valid_test_data(DATASET_PATH,size=(620,620))"
   ]
  },
  {
   "cell_type": "code",
   "execution_count": 43,
   "id": "a037f4cb-6ad9-4025-836a-afdddd2f1910",
   "metadata": {},
   "outputs": [],
   "source": [
    "from train_resnet import make_loader\n",
    "\n",
    "\n",
    "\n",
    "train_loader = make_loader(train_data, batch_size=8, shuffle=True)\n",
    "val_loader = make_loader(val_data, batch_size=8)\n",
    "test_loader = make_loader(test_data, batch_size=8)"
   ]
  },
  {
   "cell_type": "code",
   "execution_count": 44,
   "id": "eb04491f-c403-4f71-b0d8-9e6188af42dd",
   "metadata": {},
   "outputs": [],
   "source": [
    "import torchvision\n",
    "from torchvision import transforms\n",
    "train_dataset = torchvision.datasets.ImageFolder(DATASET_PATH)\n",
    "LABELS=train_dataset.classes"
   ]
  },
  {
   "cell_type": "markdown",
   "id": "c9e76165-1454-43da-b7a6-af37041477ab",
   "metadata": {},
   "source": [
    "## 2&3. Model Setup & Training\n",
    "\n",
    "In this section, we will set up the ResNet model and train it thanks to these two functions : \n",
    "\n",
    "from train_resnet import create_model,train\n",
    "\n",
    "We use a pre-trained ResNet model and fine-tune it on our dataset.\n",
    "\n",
    "### Steps:\n",
    "- Import the necessary libraries.\n",
    "- Load a pre-trained ResNet model with create_model. (Customizes the final layers to match num_class)\n",
    "\n",
    "\n",
    "- Train the model thanks to train(...)\n",
    "\n"
   ]
  },
  {
   "cell_type": "code",
   "execution_count": 7,
   "id": "d5a4bc2c-4ccf-4c6e-a951-2e30e325521c",
   "metadata": {},
   "outputs": [],
   "source": [
    "LABELS = train_dataset.classes\n",
    "num_class = len(LABELS)\n",
    "\n",
    "\n",
    "from train_resnet import create_model,train\n",
    "\n",
    "models = ['Resnet','Resnext']\n",
    "\n",
    "model = create_model(num_class,model_type=models[1])\n",
    "\n",
    "\n",
    "trainer = train(train_loader,val_loader,model,max_epochs=25, limit_train_batches=100,default_root_dir='./logs/resnext')"
   ]
  },
  {
   "cell_type": "markdown",
   "id": "78a5a204-cfe1-465c-8ea5-c605a41956c6",
   "metadata": {},
   "source": [
    "## 4. Evaluation\n",
    "\n",
    "After training the model, it's important to evaluate its performance to ensure it generalizes well to new, unseen data. Here, the train & test data comes from the same internet based source, so it is not necessarily performing well on real world images, we will have to keep that in mind.\n",
    "\n",
    "### Steps:\n",
    "- Evaluate the model on the test set to get an overall accuracy score.\n",
    "\n",
    "- Generate classification reports and confusion matrices to understand the model's performance on each class.\n",
    "!!TODO\n"
   ]
  },
  {
   "cell_type": "code",
   "execution_count": null,
   "id": "8c33147d-e93a-4d6c-bebd-3416abc11bb8",
   "metadata": {},
   "outputs": [],
   "source": [
    "from test_resnet import test,print_confusion_matrix\n",
    "\n",
    "test(trainer,model,test_loader,ckpt_path='logs/resnet/lightning_logs/version_1/checkpoints/epoch=10-val_loss=0.42358389496803284.ckpt')"
   ]
  },
  {
   "cell_type": "code",
   "execution_count": null,
   "id": "26a00e98-1e1f-4bc3-b5fc-a8a5a67518ce",
   "metadata": {},
   "outputs": [],
   "source": [
    "#- Generate classification reports and confusion matrices to understand the model's performance on each class.\n",
    "\n",
    "\n"
   ]
  },
  {
   "cell_type": "markdown",
   "id": "0dbe4557-6e08-4691-8e2a-8d48786a17ff",
   "metadata": {
    "tags": []
   },
   "source": [
    "## 5. Saving the Model\n",
    "\n",
    "To use the trained model in future applications, we need to save it. This will allow us to load the model later without having to retrain it from scratch.\n",
    "\n"
   ]
  },
  {
   "cell_type": "code",
   "execution_count": null,
   "id": "25cb7892-dc17-4b25-a911-7ea96b4f0878",
   "metadata": {},
   "outputs": [],
   "source": [
    "import torch\n",
    "\n",
    "# Get the current date\n",
    "current_date = datetime.datetime.now().strftime(\"%d_%m\")\n",
    "\n",
    "model_name = 'ResNet'\n",
    "\n",
    "# Define the path where the model will be saved, including the date\n",
    "model_save_path = f'path/to/save/{model_name}_{current_date}.pth'\n",
    "\n",
    "# Save the model\n",
    "torch.save(model.state_dict(), model_save_path)\n",
    "\n",
    "print(f\"Model successfully saved to {model_save_path}\")"
   ]
  }
 ],
 "metadata": {
  "availableInstances": [
   {
    "_defaultOrder": 0,
    "_isFastLaunch": true,
    "category": "General purpose",
    "gpuNum": 0,
    "hideHardwareSpecs": false,
    "memoryGiB": 4,
    "name": "ml.t3.medium",
    "vcpuNum": 2
   },
   {
    "_defaultOrder": 1,
    "_isFastLaunch": false,
    "category": "General purpose",
    "gpuNum": 0,
    "hideHardwareSpecs": false,
    "memoryGiB": 8,
    "name": "ml.t3.large",
    "vcpuNum": 2
   },
   {
    "_defaultOrder": 2,
    "_isFastLaunch": false,
    "category": "General purpose",
    "gpuNum": 0,
    "hideHardwareSpecs": false,
    "memoryGiB": 16,
    "name": "ml.t3.xlarge",
    "vcpuNum": 4
   },
   {
    "_defaultOrder": 3,
    "_isFastLaunch": false,
    "category": "General purpose",
    "gpuNum": 0,
    "hideHardwareSpecs": false,
    "memoryGiB": 32,
    "name": "ml.t3.2xlarge",
    "vcpuNum": 8
   },
   {
    "_defaultOrder": 4,
    "_isFastLaunch": true,
    "category": "General purpose",
    "gpuNum": 0,
    "hideHardwareSpecs": false,
    "memoryGiB": 8,
    "name": "ml.m5.large",
    "vcpuNum": 2
   },
   {
    "_defaultOrder": 5,
    "_isFastLaunch": false,
    "category": "General purpose",
    "gpuNum": 0,
    "hideHardwareSpecs": false,
    "memoryGiB": 16,
    "name": "ml.m5.xlarge",
    "vcpuNum": 4
   },
   {
    "_defaultOrder": 6,
    "_isFastLaunch": false,
    "category": "General purpose",
    "gpuNum": 0,
    "hideHardwareSpecs": false,
    "memoryGiB": 32,
    "name": "ml.m5.2xlarge",
    "vcpuNum": 8
   },
   {
    "_defaultOrder": 7,
    "_isFastLaunch": false,
    "category": "General purpose",
    "gpuNum": 0,
    "hideHardwareSpecs": false,
    "memoryGiB": 64,
    "name": "ml.m5.4xlarge",
    "vcpuNum": 16
   },
   {
    "_defaultOrder": 8,
    "_isFastLaunch": false,
    "category": "General purpose",
    "gpuNum": 0,
    "hideHardwareSpecs": false,
    "memoryGiB": 128,
    "name": "ml.m5.8xlarge",
    "vcpuNum": 32
   },
   {
    "_defaultOrder": 9,
    "_isFastLaunch": false,
    "category": "General purpose",
    "gpuNum": 0,
    "hideHardwareSpecs": false,
    "memoryGiB": 192,
    "name": "ml.m5.12xlarge",
    "vcpuNum": 48
   },
   {
    "_defaultOrder": 10,
    "_isFastLaunch": false,
    "category": "General purpose",
    "gpuNum": 0,
    "hideHardwareSpecs": false,
    "memoryGiB": 256,
    "name": "ml.m5.16xlarge",
    "vcpuNum": 64
   },
   {
    "_defaultOrder": 11,
    "_isFastLaunch": false,
    "category": "General purpose",
    "gpuNum": 0,
    "hideHardwareSpecs": false,
    "memoryGiB": 384,
    "name": "ml.m5.24xlarge",
    "vcpuNum": 96
   },
   {
    "_defaultOrder": 12,
    "_isFastLaunch": false,
    "category": "General purpose",
    "gpuNum": 0,
    "hideHardwareSpecs": false,
    "memoryGiB": 8,
    "name": "ml.m5d.large",
    "vcpuNum": 2
   },
   {
    "_defaultOrder": 13,
    "_isFastLaunch": false,
    "category": "General purpose",
    "gpuNum": 0,
    "hideHardwareSpecs": false,
    "memoryGiB": 16,
    "name": "ml.m5d.xlarge",
    "vcpuNum": 4
   },
   {
    "_defaultOrder": 14,
    "_isFastLaunch": false,
    "category": "General purpose",
    "gpuNum": 0,
    "hideHardwareSpecs": false,
    "memoryGiB": 32,
    "name": "ml.m5d.2xlarge",
    "vcpuNum": 8
   },
   {
    "_defaultOrder": 15,
    "_isFastLaunch": false,
    "category": "General purpose",
    "gpuNum": 0,
    "hideHardwareSpecs": false,
    "memoryGiB": 64,
    "name": "ml.m5d.4xlarge",
    "vcpuNum": 16
   },
   {
    "_defaultOrder": 16,
    "_isFastLaunch": false,
    "category": "General purpose",
    "gpuNum": 0,
    "hideHardwareSpecs": false,
    "memoryGiB": 128,
    "name": "ml.m5d.8xlarge",
    "vcpuNum": 32
   },
   {
    "_defaultOrder": 17,
    "_isFastLaunch": false,
    "category": "General purpose",
    "gpuNum": 0,
    "hideHardwareSpecs": false,
    "memoryGiB": 192,
    "name": "ml.m5d.12xlarge",
    "vcpuNum": 48
   },
   {
    "_defaultOrder": 18,
    "_isFastLaunch": false,
    "category": "General purpose",
    "gpuNum": 0,
    "hideHardwareSpecs": false,
    "memoryGiB": 256,
    "name": "ml.m5d.16xlarge",
    "vcpuNum": 64
   },
   {
    "_defaultOrder": 19,
    "_isFastLaunch": false,
    "category": "General purpose",
    "gpuNum": 0,
    "hideHardwareSpecs": false,
    "memoryGiB": 384,
    "name": "ml.m5d.24xlarge",
    "vcpuNum": 96
   },
   {
    "_defaultOrder": 20,
    "_isFastLaunch": false,
    "category": "General purpose",
    "gpuNum": 0,
    "hideHardwareSpecs": true,
    "memoryGiB": 0,
    "name": "ml.geospatial.interactive",
    "supportedImageNames": [
     "sagemaker-geospatial-v1-0"
    ],
    "vcpuNum": 0
   },
   {
    "_defaultOrder": 21,
    "_isFastLaunch": true,
    "category": "Compute optimized",
    "gpuNum": 0,
    "hideHardwareSpecs": false,
    "memoryGiB": 4,
    "name": "ml.c5.large",
    "vcpuNum": 2
   },
   {
    "_defaultOrder": 22,
    "_isFastLaunch": false,
    "category": "Compute optimized",
    "gpuNum": 0,
    "hideHardwareSpecs": false,
    "memoryGiB": 8,
    "name": "ml.c5.xlarge",
    "vcpuNum": 4
   },
   {
    "_defaultOrder": 23,
    "_isFastLaunch": false,
    "category": "Compute optimized",
    "gpuNum": 0,
    "hideHardwareSpecs": false,
    "memoryGiB": 16,
    "name": "ml.c5.2xlarge",
    "vcpuNum": 8
   },
   {
    "_defaultOrder": 24,
    "_isFastLaunch": false,
    "category": "Compute optimized",
    "gpuNum": 0,
    "hideHardwareSpecs": false,
    "memoryGiB": 32,
    "name": "ml.c5.4xlarge",
    "vcpuNum": 16
   },
   {
    "_defaultOrder": 25,
    "_isFastLaunch": false,
    "category": "Compute optimized",
    "gpuNum": 0,
    "hideHardwareSpecs": false,
    "memoryGiB": 72,
    "name": "ml.c5.9xlarge",
    "vcpuNum": 36
   },
   {
    "_defaultOrder": 26,
    "_isFastLaunch": false,
    "category": "Compute optimized",
    "gpuNum": 0,
    "hideHardwareSpecs": false,
    "memoryGiB": 96,
    "name": "ml.c5.12xlarge",
    "vcpuNum": 48
   },
   {
    "_defaultOrder": 27,
    "_isFastLaunch": false,
    "category": "Compute optimized",
    "gpuNum": 0,
    "hideHardwareSpecs": false,
    "memoryGiB": 144,
    "name": "ml.c5.18xlarge",
    "vcpuNum": 72
   },
   {
    "_defaultOrder": 28,
    "_isFastLaunch": false,
    "category": "Compute optimized",
    "gpuNum": 0,
    "hideHardwareSpecs": false,
    "memoryGiB": 192,
    "name": "ml.c5.24xlarge",
    "vcpuNum": 96
   },
   {
    "_defaultOrder": 29,
    "_isFastLaunch": true,
    "category": "Accelerated computing",
    "gpuNum": 1,
    "hideHardwareSpecs": false,
    "memoryGiB": 16,
    "name": "ml.g4dn.xlarge",
    "vcpuNum": 4
   },
   {
    "_defaultOrder": 30,
    "_isFastLaunch": false,
    "category": "Accelerated computing",
    "gpuNum": 1,
    "hideHardwareSpecs": false,
    "memoryGiB": 32,
    "name": "ml.g4dn.2xlarge",
    "vcpuNum": 8
   },
   {
    "_defaultOrder": 31,
    "_isFastLaunch": false,
    "category": "Accelerated computing",
    "gpuNum": 1,
    "hideHardwareSpecs": false,
    "memoryGiB": 64,
    "name": "ml.g4dn.4xlarge",
    "vcpuNum": 16
   },
   {
    "_defaultOrder": 32,
    "_isFastLaunch": false,
    "category": "Accelerated computing",
    "gpuNum": 1,
    "hideHardwareSpecs": false,
    "memoryGiB": 128,
    "name": "ml.g4dn.8xlarge",
    "vcpuNum": 32
   },
   {
    "_defaultOrder": 33,
    "_isFastLaunch": false,
    "category": "Accelerated computing",
    "gpuNum": 4,
    "hideHardwareSpecs": false,
    "memoryGiB": 192,
    "name": "ml.g4dn.12xlarge",
    "vcpuNum": 48
   },
   {
    "_defaultOrder": 34,
    "_isFastLaunch": false,
    "category": "Accelerated computing",
    "gpuNum": 1,
    "hideHardwareSpecs": false,
    "memoryGiB": 256,
    "name": "ml.g4dn.16xlarge",
    "vcpuNum": 64
   },
   {
    "_defaultOrder": 35,
    "_isFastLaunch": false,
    "category": "Accelerated computing",
    "gpuNum": 1,
    "hideHardwareSpecs": false,
    "memoryGiB": 61,
    "name": "ml.p3.2xlarge",
    "vcpuNum": 8
   },
   {
    "_defaultOrder": 36,
    "_isFastLaunch": false,
    "category": "Accelerated computing",
    "gpuNum": 4,
    "hideHardwareSpecs": false,
    "memoryGiB": 244,
    "name": "ml.p3.8xlarge",
    "vcpuNum": 32
   },
   {
    "_defaultOrder": 37,
    "_isFastLaunch": false,
    "category": "Accelerated computing",
    "gpuNum": 8,
    "hideHardwareSpecs": false,
    "memoryGiB": 488,
    "name": "ml.p3.16xlarge",
    "vcpuNum": 64
   },
   {
    "_defaultOrder": 38,
    "_isFastLaunch": false,
    "category": "Accelerated computing",
    "gpuNum": 8,
    "hideHardwareSpecs": false,
    "memoryGiB": 768,
    "name": "ml.p3dn.24xlarge",
    "vcpuNum": 96
   },
   {
    "_defaultOrder": 39,
    "_isFastLaunch": false,
    "category": "Memory Optimized",
    "gpuNum": 0,
    "hideHardwareSpecs": false,
    "memoryGiB": 16,
    "name": "ml.r5.large",
    "vcpuNum": 2
   },
   {
    "_defaultOrder": 40,
    "_isFastLaunch": false,
    "category": "Memory Optimized",
    "gpuNum": 0,
    "hideHardwareSpecs": false,
    "memoryGiB": 32,
    "name": "ml.r5.xlarge",
    "vcpuNum": 4
   },
   {
    "_defaultOrder": 41,
    "_isFastLaunch": false,
    "category": "Memory Optimized",
    "gpuNum": 0,
    "hideHardwareSpecs": false,
    "memoryGiB": 64,
    "name": "ml.r5.2xlarge",
    "vcpuNum": 8
   },
   {
    "_defaultOrder": 42,
    "_isFastLaunch": false,
    "category": "Memory Optimized",
    "gpuNum": 0,
    "hideHardwareSpecs": false,
    "memoryGiB": 128,
    "name": "ml.r5.4xlarge",
    "vcpuNum": 16
   },
   {
    "_defaultOrder": 43,
    "_isFastLaunch": false,
    "category": "Memory Optimized",
    "gpuNum": 0,
    "hideHardwareSpecs": false,
    "memoryGiB": 256,
    "name": "ml.r5.8xlarge",
    "vcpuNum": 32
   },
   {
    "_defaultOrder": 44,
    "_isFastLaunch": false,
    "category": "Memory Optimized",
    "gpuNum": 0,
    "hideHardwareSpecs": false,
    "memoryGiB": 384,
    "name": "ml.r5.12xlarge",
    "vcpuNum": 48
   },
   {
    "_defaultOrder": 45,
    "_isFastLaunch": false,
    "category": "Memory Optimized",
    "gpuNum": 0,
    "hideHardwareSpecs": false,
    "memoryGiB": 512,
    "name": "ml.r5.16xlarge",
    "vcpuNum": 64
   },
   {
    "_defaultOrder": 46,
    "_isFastLaunch": false,
    "category": "Memory Optimized",
    "gpuNum": 0,
    "hideHardwareSpecs": false,
    "memoryGiB": 768,
    "name": "ml.r5.24xlarge",
    "vcpuNum": 96
   },
   {
    "_defaultOrder": 47,
    "_isFastLaunch": false,
    "category": "Accelerated computing",
    "gpuNum": 1,
    "hideHardwareSpecs": false,
    "memoryGiB": 16,
    "name": "ml.g5.xlarge",
    "vcpuNum": 4
   },
   {
    "_defaultOrder": 48,
    "_isFastLaunch": false,
    "category": "Accelerated computing",
    "gpuNum": 1,
    "hideHardwareSpecs": false,
    "memoryGiB": 32,
    "name": "ml.g5.2xlarge",
    "vcpuNum": 8
   },
   {
    "_defaultOrder": 49,
    "_isFastLaunch": false,
    "category": "Accelerated computing",
    "gpuNum": 1,
    "hideHardwareSpecs": false,
    "memoryGiB": 64,
    "name": "ml.g5.4xlarge",
    "vcpuNum": 16
   },
   {
    "_defaultOrder": 50,
    "_isFastLaunch": false,
    "category": "Accelerated computing",
    "gpuNum": 1,
    "hideHardwareSpecs": false,
    "memoryGiB": 128,
    "name": "ml.g5.8xlarge",
    "vcpuNum": 32
   },
   {
    "_defaultOrder": 51,
    "_isFastLaunch": false,
    "category": "Accelerated computing",
    "gpuNum": 1,
    "hideHardwareSpecs": false,
    "memoryGiB": 256,
    "name": "ml.g5.16xlarge",
    "vcpuNum": 64
   },
   {
    "_defaultOrder": 52,
    "_isFastLaunch": false,
    "category": "Accelerated computing",
    "gpuNum": 4,
    "hideHardwareSpecs": false,
    "memoryGiB": 192,
    "name": "ml.g5.12xlarge",
    "vcpuNum": 48
   },
   {
    "_defaultOrder": 53,
    "_isFastLaunch": false,
    "category": "Accelerated computing",
    "gpuNum": 4,
    "hideHardwareSpecs": false,
    "memoryGiB": 384,
    "name": "ml.g5.24xlarge",
    "vcpuNum": 96
   },
   {
    "_defaultOrder": 54,
    "_isFastLaunch": false,
    "category": "Accelerated computing",
    "gpuNum": 8,
    "hideHardwareSpecs": false,
    "memoryGiB": 768,
    "name": "ml.g5.48xlarge",
    "vcpuNum": 192
   },
   {
    "_defaultOrder": 55,
    "_isFastLaunch": false,
    "category": "Accelerated computing",
    "gpuNum": 8,
    "hideHardwareSpecs": false,
    "memoryGiB": 1152,
    "name": "ml.p4d.24xlarge",
    "vcpuNum": 96
   },
   {
    "_defaultOrder": 56,
    "_isFastLaunch": false,
    "category": "Accelerated computing",
    "gpuNum": 8,
    "hideHardwareSpecs": false,
    "memoryGiB": 1152,
    "name": "ml.p4de.24xlarge",
    "vcpuNum": 96
   },
   {
    "_defaultOrder": 57,
    "_isFastLaunch": false,
    "category": "Accelerated computing",
    "gpuNum": 0,
    "hideHardwareSpecs": false,
    "memoryGiB": 32,
    "name": "ml.trn1.2xlarge",
    "vcpuNum": 8
   },
   {
    "_defaultOrder": 58,
    "_isFastLaunch": false,
    "category": "Accelerated computing",
    "gpuNum": 0,
    "hideHardwareSpecs": false,
    "memoryGiB": 512,
    "name": "ml.trn1.32xlarge",
    "vcpuNum": 128
   },
   {
    "_defaultOrder": 59,
    "_isFastLaunch": false,
    "category": "Accelerated computing",
    "gpuNum": 0,
    "hideHardwareSpecs": false,
    "memoryGiB": 512,
    "name": "ml.trn1n.32xlarge",
    "vcpuNum": 128
   }
  ],
  "kernelspec": {
   "display_name": "Python 3 (SageMaker Distribution v0 GPU)",
   "language": "python",
   "name": "python3__SAGEMAKER_INTERNAL__arn:aws:sagemaker:us-east-1:885854791233:image/sagemaker-distribution-gpu-v0"
  },
  "language_info": {
   "codemirror_mode": {
    "name": "ipython",
    "version": 3
   },
   "file_extension": ".py",
   "mimetype": "text/x-python",
   "name": "python",
   "nbconvert_exporter": "python",
   "pygments_lexer": "ipython3",
   "version": "3.8.18"
  }
 },
 "nbformat": 4,
 "nbformat_minor": 5
}
